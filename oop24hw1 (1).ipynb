{
 "cells": [
  {
   "cell_type": "markdown",
   "id": "49b2bb3f-8a94-4aba-bf67-6b97d86c0047",
   "metadata": {},
   "source": [
    "# OOP (2024 Fall) HW1: 불변 순서쌍을 활용해 가변 순서쌍 만들기 \n",
    "- 이름: 홍길동\n",
    "- 학번: 99999999\n",
    "\n",
    "여기 홍길동, 99999999 대신 본인의 이름, 학번 작성"
   ]
  },
  {
   "cell_type": "markdown",
   "id": "9c3c24aa-19ac-4c88-a228-0d1686034a24",
   "metadata": {},
   "source": [
    "-----\n",
    "## Part A: 불변 순서쌍 Pair\n",
    "1. 클래스(또는 정적) 팩토리 메소드 `of`를 를 수정하여 완성하라.\n",
    "    - https://velog.io/@cjh8746/%EC%A0%95%EC%A0%81-%ED%8C%A9%ED%86%A0%EB%A6%AC-%EB%A9%94%EC%84%9C%EB%93%9CStatic-Factory-Method\n",
    "1. 주석 부분을 풀어 제너릭 클래스인 `Pair`가 제너릭 인터페이스 `Comparable`를 구현하도록 완성하라.\n",
    "    - https://docs.oracle.com/en/java/javase/22/docs/api/java.base/java/lang/Comparable.html"
   ]
  },
  {
   "cell_type": "code",
   "execution_count": 6,
   "id": "f2b4bcb7-9d9c-494a-9762-ca0700c6f762",
   "metadata": {},
   "outputs": [],
   "source": [
    "record Pair<F extends Comparable<F>, S extends Comparable<S>>(F first, S second) implements Comparable<Pair<F, S>> {\n",
    "\n",
    "    static <F extends Comparable<F>, S extends Comparable<S>> Pair<F, S> of(F first, S second) {\n",
    "        return new Pair<>(first, second);\n",
    "    }\n",
    "    @Override\n",
    "    public int compareTo(Pair<F, S> other) {\n",
    "        int firstComparison = this.first.compareTo(other.first);\n",
    "        if (firstComparison != 0) {\n",
    "            return firstComparison;\n",
    "        }\n",
    "        return this.second.compareTo(other.second);\n",
    "    }\n",
    "}"
   ]
  },
  {
   "cell_type": "code",
   "execution_count": 28,
   "id": "5fb5b2ac-4ac0-40cc-9f87-1675177e4baa",
   "metadata": {},
   "outputs": [
    {
     "name": "stdout",
     "output_type": "stream",
     "text": [
      "-1\n",
      "1\n",
      "0\n"
     ]
    }
   ],
   "source": [
    "System.out.println(Pair.of(1, \"Jurge\").compareTo(Pair.of(71, \"Othani\"))); \n",
    "System.out.println(Pair.of(164, \"Kim\").compareTo(Pair.of(5, \"Cruse\"))); \n",
    "System.out.println(Pair.of(3, \"Ryu\").compareTo(Pair.of(3, \"Ryu\"))); "
   ]
  },
  {
   "cell_type": "markdown",
   "id": "e2774a64-250e-4e89-a536-5a8ed42bb4ce",
   "metadata": {},
   "source": [
    "------\n",
    "## Part B: 가변 순서쌍 ModifiablePair\n",
    "\n",
    "불변 순서쌍만을 priviate 필드로 갖고 있는 가변 순서쌍 제너릭 클래스를 작성하라\n",
    "\n",
    "가변 순서쌍은 불변 순서쌍과 마찬가지 이름의 getter 메소드가 있고 추가로 setter 메소드도 있다.\n",
    "\n",
    "또, 가변 순서쌍도 불변 순서쌍과 마찬가지로 Comparable 제너릭 인터페이스를 구현하라.\n"
   ]
  },
  {
   "cell_type": "code",
   "execution_count": 8,
   "id": "38eb649f-d95e-40d8-a33b-658df4ee4a7f",
   "metadata": {},
   "outputs": [],
   "source": [
    "class ModifiablePair<F extends Comparable<F>, S extends Comparable<S>> implements Comparable<ModifiablePair<F, S>> {\n",
    "\n",
    "    private Pair<F, S> pair;\n",
    "    \n",
    "    ModifiablePair(F first, S second) {\n",
    "        this.pair = Pair.of(first, second);\n",
    "    }\n",
    "    public F first() {\n",
    "        return pair.first();\n",
    "    }\n",
    "\n",
    "    public S second() {\n",
    "        return pair.second();\n",
    "    }\n",
    "    public void setFirst(F first) {\n",
    "        this.pair = Pair.of(first, this.second());\n",
    "    }\n",
    "\n",
    "    public void setSecond(S second) {\n",
    "        this.pair = Pair.of(this.first(), second);\n",
    "    }\n",
    "    @Override\n",
    "    public int compareTo(ModifiablePair<F, S> other) {\n",
    "        return this.pair.compareTo(other.pair);\n",
    "    }\n",
    "    @Override\n",
    "    public String toString() {\n",
    "        return pair.toString();\n",
    "    }\n",
    "}"
   ]
  },
  {
   "cell_type": "code",
   "execution_count": 17,
   "id": "57af3b33-b9db-43bd-a8e7-5b35d97aaf5e",
   "metadata": {},
   "outputs": [
    {
     "name": "stdout",
     "output_type": "stream",
     "text": [
      "Initial First: 1\n",
      "Initial Second: Hello\n",
      "Updated First: 10\n",
      "Updated Second: World\n",
      "Final Pair: Pair[first=10, second=World]\n"
     ]
    }
   ],
   "source": [
    "ModifiablePair<Integer, String> pair = new ModifiablePair<>(1, \"Hello\");\n",
    "\n",
    "System.out.println(\"Initial First: \" + pair.first());  \n",
    "        \n",
    "System.out.println(\"Initial Second: \" + pair.second()); \n",
    "\n",
    "pair.setFirst(10); \n",
    "System.out.println(\"Updated First: \" + pair.first()); \n",
    "        \n",
    "pair.setSecond(\"World\"); \n",
    "System.out.println(\"Updated Second: \" + pair.second());\n",
    "        \n",
    "System.out.println(\"Final Pair: \" + pair);"
   ]
  },
  {
   "cell_type": "code",
   "execution_count": 24,
   "id": "e0b9e66e-d3fa-4485-b6f6-4075eca8fcf3",
   "metadata": {},
   "outputs": [
    {
     "name": "stdout",
     "output_type": "stream",
     "text": [
      "0\n",
      "1\n",
      "-1\n"
     ]
    }
   ],
   "source": [
    "System.out.println(Pair.of(3, \"Messi\").compareTo(Pair.of(3, \"Messi\"))); \n",
    "System.out.println(Pair.of(152, \"Persi\").compareTo(Pair.of(65, \"Vasten\"))); \n",
    "System.out.println(Pair.of(10, \"Neymar\").compareTo(Pair.of(37, \"Cross\"))); "
   ]
  },
  {
   "cell_type": "code",
   "execution_count": null,
   "id": "10e7b08d-651f-44c8-b8ae-21f097eae1d6",
   "metadata": {},
   "outputs": [],
   "source": []
  }
 ],
 "metadata": {
  "kernelspec": {
   "display_name": "Java (rjk 2.1.0)",
   "language": "java",
   "name": "rapaio-jupyter-kernel"
  },
  "language_info": {
   "codemirror_mode": "java",
   "file_extension": ".jshell",
   "mimetype": "text/x-java-source",
   "name": "java",
   "nbconvert_exporter": "script",
   "pygments_lexer": "java",
   "version": "22.0.2+9"
  }
 },
 "nbformat": 4,
 "nbformat_minor": 5
}
